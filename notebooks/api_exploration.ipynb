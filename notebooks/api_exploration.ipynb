{
 "cells": [
  {
   "cell_type": "code",
   "execution_count": 1,
   "id": "1bcecb10-2a10-44d0-8a5c-af93d2fcd659",
   "metadata": {
    "jupyter": {
     "is_executing": true
    }
   },
   "outputs": [],
   "source": [
    "import os\n",
    "from dotenv import load_dotenv\n",
    "import pandas as pd\n",
    "import requests\n",
    "from bs4 import BeautifulSoup"
   ]
  },
  {
   "cell_type": "code",
   "execution_count": 2,
   "id": "9611650a-3046-42b6-9b01-62e1ae4dfa0b",
   "metadata": {},
   "outputs": [],
   "source": [
    "alpha_api_url = os.getenv(\"ALPHA_API_URL\")\n",
    "alpha_api_key = os.getenv(\"ALPHA_API_KEY\")"
   ]
  },
  {
   "cell_type": "code",
   "execution_count": null,
   "id": "d7f2763f",
   "metadata": {},
   "outputs": [
    {
     "name": "stdout",
     "output_type": "stream",
     "text": [
      "API request attempt completed\n"
     ]
    },
    {
     "ename": "NameError",
     "evalue": "name 'url' is not defined",
     "output_type": "error",
     "traceback": [
      "\u001b[31m---------------------------------------------------------------------------\u001b[39m",
      "\u001b[31mNameError\u001b[39m                                 Traceback (most recent call last)",
      "\u001b[36mCell\u001b[39m\u001b[36m \u001b[39m\u001b[32mIn[3]\u001b[39m\u001b[32m, line 7\u001b[39m\n\u001b[32m      1\u001b[39m \u001b[38;5;28;01mtry\u001b[39;00m:\n\u001b[32m      2\u001b[39m     params = {\n\u001b[32m      3\u001b[39m         \u001b[33m'\u001b[39m\u001b[33mfunction\u001b[39m\u001b[33m'\u001b[39m: \u001b[33m'\u001b[39m\u001b[33mTIME_SERIES_DAILY\u001b[39m\u001b[33m'\u001b[39m,  \u001b[38;5;66;03m# or whatever function you want\u001b[39;00m\n\u001b[32m      4\u001b[39m         \u001b[33m'\u001b[39m\u001b[33msymbol\u001b[39m\u001b[33m'\u001b[39m: \u001b[33m'\u001b[39m\u001b[33mAAPL\u001b[39m\u001b[33m'\u001b[39m,  \u001b[38;5;66;03m# or whatever symbol\u001b[39;00m\n\u001b[32m      5\u001b[39m         \u001b[33m'\u001b[39m\u001b[33mapikey\u001b[39m\u001b[33m'\u001b[39m: alpha_api_key\n\u001b[32m      6\u001b[39m     }\n\u001b[32m----> \u001b[39m\u001b[32m7\u001b[39m     res = requests.get(\u001b[43murl\u001b[49m, params, timeout=\u001b[32m15.0\u001b[39m) \u001b[38;5;66;03m#timeout parameter prevents program from hanging\u001b[39;00m\n\u001b[32m      8\u001b[39m     \u001b[38;5;28mprint\u001b[39m(\u001b[33mf\u001b[39m\u001b[33m\"\u001b[39m\u001b[33mStatus Code: \u001b[39m\u001b[38;5;132;01m{\u001b[39;00mres.status_code\u001b[38;5;132;01m}\u001b[39;00m\u001b[33m\"\u001b[39m) \n\u001b[32m      9\u001b[39m     data = res.json()\n",
      "\u001b[31mNameError\u001b[39m: name 'url' is not defined"
     ]
    }
   ],
   "source": [
    "try:\n",
    "    params = {\n",
    "        'function': 'TIME_SERIES_DAILY',  # or whatever function you want\n",
    "        'symbol': 'AAPL',  # or whatever symbol\n",
    "        'apikey': alpha_api_key\n",
    "    }\n",
    "    res = requests.get(alpha_api_url, params, timeout=15.0) #timeout parameter prevents program from hanging\n",
    "    print(f\"Status Code: {res.status_code}\") \n",
    "    data = res.json()\n",
    "    print(f\"Data from the API key: {data}\")\n",
    "except requests.ConnectionError as e:\n",
    "    print(f\"Failed to connect: {e}\")\n",
    "except requests.HTTPError as e:\n",
    "    print(f\"HTTP error: {e}, Status: {e.response.status_code}\")\n",
    "except requests.Timeout as e:\n",
    "    print(f\"Request timed out: {e}\")\n",
    "except requests.RequestException as e:\n",
    "    print(f\"Request erro: {e}\")\n",
    "finally:\n",
    "    print(\"API request attempt completed\")"
   ]
  },
  {
   "cell_type": "markdown",
   "id": "38076d15",
   "metadata": {},
   "source": []
  }
 ],
 "metadata": {
  "kernelspec": {
   "display_name": "venv (3.12.4)",
   "language": "python",
   "name": "python3"
  },
  "language_info": {
   "codemirror_mode": {
    "name": "ipython",
    "version": 3
   },
   "file_extension": ".py",
   "mimetype": "text/x-python",
   "name": "python",
   "nbconvert_exporter": "python",
   "pygments_lexer": "ipython3",
   "version": "3.12.4"
  }
 },
 "nbformat": 4,
 "nbformat_minor": 5
}
